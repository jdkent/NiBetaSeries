{
 "cells": [
  {
   "cell_type": "code",
   "execution_count": 1,
   "metadata": {},
   "outputs": [],
   "source": [
    "from bids.layout import BIDSLayout"
   ]
  },
  {
   "cell_type": "code",
   "execution_count": 8,
   "metadata": {},
   "outputs": [
    {
     "name": "stderr",
     "output_type": "stream",
     "text": [
      "/usr/local/miniconda3/lib/python3.6/site-packages/bids/layout/bids_layout.py:116: UserWarning: 'dataset_description.json' file is missing from project root. You may want to set the root path to a valid BIDS project.\n",
      "  warnings.warn(\"'dataset_description.json' file is missing from \"\n",
      "/usr/local/miniconda3/lib/python3.6/site-packages/grabbit/core.py:448: UserWarning: Domain with name 'bids' already exists; returning existing Domain configuration.\n",
      "  warnings.warn(msg)\n"
     ]
    }
   ],
   "source": [
    "bids_dir = '/home/james/test/BetterDirectoryStructure/3-Experiment/2-data/bids'\n",
    "deriv_dir = '/home/james/test/BetterDirectoryStructure/3-Experiment/2-data/bids/derivatives/fmriprep'\n",
    "lay = BIDSLayout([(bids_dir), (deriv_dir, ['bids', 'derivatives'])], include='sub-*')"
   ]
  },
  {
   "cell_type": "code",
   "execution_count": 14,
   "metadata": {},
   "outputs": [
    {
     "ename": "JSONDecodeError",
     "evalue": "Expecting value: line 1 column 1 (char 0)",
     "output_type": "error",
     "traceback": [
      "\u001b[0;31m---------------------------------------------------------------------------\u001b[0m",
      "\u001b[0;31mJSONDecodeError\u001b[0m                           Traceback (most recent call last)",
      "\u001b[0;32m<ipython-input-14-95bd13035db1>\u001b[0m in \u001b[0;36m<module>\u001b[0;34m()\u001b[0m\n\u001b[1;32m      1\u001b[0m \u001b[0mmfile\u001b[0m \u001b[0;34m=\u001b[0m \u001b[0mlay\u001b[0m\u001b[0;34m.\u001b[0m\u001b[0mget\u001b[0m\u001b[0;34m(\u001b[0m\u001b[0msubject\u001b[0m\u001b[0;34m=\u001b[0m\u001b[0;34m'GE120test01'\u001b[0m\u001b[0;34m,\u001b[0m \u001b[0msession\u001b[0m\u001b[0;34m=\u001b[0m\u001b[0;34m'pre'\u001b[0m\u001b[0;34m,\u001b[0m \u001b[0mtask\u001b[0m\u001b[0;34m=\u001b[0m\u001b[0;34m'rest'\u001b[0m\u001b[0;34m,\u001b[0m \u001b[0mreconstruction\u001b[0m\u001b[0;34m=\u001b[0m\u001b[0;34m'pu'\u001b[0m\u001b[0;34m,\u001b[0m \u001b[0mrun\u001b[0m\u001b[0;34m=\u001b[0m\u001b[0;36m2\u001b[0m\u001b[0;34m,\u001b[0m \u001b[0mtype\u001b[0m\u001b[0;34m=\u001b[0m\u001b[0;34m'bold'\u001b[0m\u001b[0;34m,\u001b[0m \u001b[0mmodality\u001b[0m\u001b[0;34m=\u001b[0m\u001b[0;34m'func'\u001b[0m\u001b[0;34m)\u001b[0m\u001b[0;34m[\u001b[0m\u001b[0;36m0\u001b[0m\u001b[0;34m]\u001b[0m\u001b[0;34m.\u001b[0m\u001b[0mfilename\u001b[0m\u001b[0;34m\u001b[0m\u001b[0m\n\u001b[0;32m----> 2\u001b[0;31m \u001b[0mlay\u001b[0m\u001b[0;34m.\u001b[0m\u001b[0mget_metadata\u001b[0m\u001b[0;34m(\u001b[0m\u001b[0mmfile\u001b[0m\u001b[0;34m)\u001b[0m\u001b[0;34m\u001b[0m\u001b[0m\n\u001b[0m",
      "\u001b[0;32m/usr/local/miniconda3/lib/python3.6/site-packages/bids/layout/bids_layout.py\u001b[0m in \u001b[0;36mget_metadata\u001b[0;34m(self, path, include_entities, **kwargs)\u001b[0m\n\u001b[1;32m    206\u001b[0m             \u001b[0;32mif\u001b[0m \u001b[0mos\u001b[0m\u001b[0;34m.\u001b[0m\u001b[0mpath\u001b[0m\u001b[0;34m.\u001b[0m\u001b[0mexists\u001b[0m\u001b[0;34m(\u001b[0m\u001b[0mjson_file_path\u001b[0m\u001b[0;34m)\u001b[0m\u001b[0;34m:\u001b[0m\u001b[0;34m\u001b[0m\u001b[0m\n\u001b[1;32m    207\u001b[0m                 param_dict = json.load(open(json_file_path, \"r\",\n\u001b[0;32m--> 208\u001b[0;31m                                             encoding='utf-8'))\n\u001b[0m\u001b[1;32m    209\u001b[0m                 \u001b[0mmerged_param_dict\u001b[0m\u001b[0;34m.\u001b[0m\u001b[0mupdate\u001b[0m\u001b[0;34m(\u001b[0m\u001b[0mparam_dict\u001b[0m\u001b[0;34m)\u001b[0m\u001b[0;34m\u001b[0m\u001b[0m\n\u001b[1;32m    210\u001b[0m \u001b[0;34m\u001b[0m\u001b[0m\n",
      "\u001b[0;32m/usr/local/miniconda3/lib/python3.6/json/__init__.py\u001b[0m in \u001b[0;36mload\u001b[0;34m(fp, cls, object_hook, parse_float, parse_int, parse_constant, object_pairs_hook, **kw)\u001b[0m\n\u001b[1;32m    297\u001b[0m         \u001b[0mcls\u001b[0m\u001b[0;34m=\u001b[0m\u001b[0mcls\u001b[0m\u001b[0;34m,\u001b[0m \u001b[0mobject_hook\u001b[0m\u001b[0;34m=\u001b[0m\u001b[0mobject_hook\u001b[0m\u001b[0;34m,\u001b[0m\u001b[0;34m\u001b[0m\u001b[0m\n\u001b[1;32m    298\u001b[0m         \u001b[0mparse_float\u001b[0m\u001b[0;34m=\u001b[0m\u001b[0mparse_float\u001b[0m\u001b[0;34m,\u001b[0m \u001b[0mparse_int\u001b[0m\u001b[0;34m=\u001b[0m\u001b[0mparse_int\u001b[0m\u001b[0;34m,\u001b[0m\u001b[0;34m\u001b[0m\u001b[0m\n\u001b[0;32m--> 299\u001b[0;31m         parse_constant=parse_constant, object_pairs_hook=object_pairs_hook, **kw)\n\u001b[0m\u001b[1;32m    300\u001b[0m \u001b[0;34m\u001b[0m\u001b[0m\n\u001b[1;32m    301\u001b[0m \u001b[0;34m\u001b[0m\u001b[0m\n",
      "\u001b[0;32m/usr/local/miniconda3/lib/python3.6/json/__init__.py\u001b[0m in \u001b[0;36mloads\u001b[0;34m(s, encoding, cls, object_hook, parse_float, parse_int, parse_constant, object_pairs_hook, **kw)\u001b[0m\n\u001b[1;32m    352\u001b[0m             \u001b[0mparse_int\u001b[0m \u001b[0;32mis\u001b[0m \u001b[0;32mNone\u001b[0m \u001b[0;32mand\u001b[0m \u001b[0mparse_float\u001b[0m \u001b[0;32mis\u001b[0m \u001b[0;32mNone\u001b[0m \u001b[0;32mand\u001b[0m\u001b[0;34m\u001b[0m\u001b[0m\n\u001b[1;32m    353\u001b[0m             parse_constant is None and object_pairs_hook is None and not kw):\n\u001b[0;32m--> 354\u001b[0;31m         \u001b[0;32mreturn\u001b[0m \u001b[0m_default_decoder\u001b[0m\u001b[0;34m.\u001b[0m\u001b[0mdecode\u001b[0m\u001b[0;34m(\u001b[0m\u001b[0ms\u001b[0m\u001b[0;34m)\u001b[0m\u001b[0;34m\u001b[0m\u001b[0m\n\u001b[0m\u001b[1;32m    355\u001b[0m     \u001b[0;32mif\u001b[0m \u001b[0mcls\u001b[0m \u001b[0;32mis\u001b[0m \u001b[0;32mNone\u001b[0m\u001b[0;34m:\u001b[0m\u001b[0;34m\u001b[0m\u001b[0m\n\u001b[1;32m    356\u001b[0m         \u001b[0mcls\u001b[0m \u001b[0;34m=\u001b[0m \u001b[0mJSONDecoder\u001b[0m\u001b[0;34m\u001b[0m\u001b[0m\n",
      "\u001b[0;32m/usr/local/miniconda3/lib/python3.6/json/decoder.py\u001b[0m in \u001b[0;36mdecode\u001b[0;34m(self, s, _w)\u001b[0m\n\u001b[1;32m    337\u001b[0m \u001b[0;34m\u001b[0m\u001b[0m\n\u001b[1;32m    338\u001b[0m         \"\"\"\n\u001b[0;32m--> 339\u001b[0;31m         \u001b[0mobj\u001b[0m\u001b[0;34m,\u001b[0m \u001b[0mend\u001b[0m \u001b[0;34m=\u001b[0m \u001b[0mself\u001b[0m\u001b[0;34m.\u001b[0m\u001b[0mraw_decode\u001b[0m\u001b[0;34m(\u001b[0m\u001b[0ms\u001b[0m\u001b[0;34m,\u001b[0m \u001b[0midx\u001b[0m\u001b[0;34m=\u001b[0m\u001b[0m_w\u001b[0m\u001b[0;34m(\u001b[0m\u001b[0ms\u001b[0m\u001b[0;34m,\u001b[0m \u001b[0;36m0\u001b[0m\u001b[0;34m)\u001b[0m\u001b[0;34m.\u001b[0m\u001b[0mend\u001b[0m\u001b[0;34m(\u001b[0m\u001b[0;34m)\u001b[0m\u001b[0;34m)\u001b[0m\u001b[0;34m\u001b[0m\u001b[0m\n\u001b[0m\u001b[1;32m    340\u001b[0m         \u001b[0mend\u001b[0m \u001b[0;34m=\u001b[0m \u001b[0m_w\u001b[0m\u001b[0;34m(\u001b[0m\u001b[0ms\u001b[0m\u001b[0;34m,\u001b[0m \u001b[0mend\u001b[0m\u001b[0;34m)\u001b[0m\u001b[0;34m.\u001b[0m\u001b[0mend\u001b[0m\u001b[0;34m(\u001b[0m\u001b[0;34m)\u001b[0m\u001b[0;34m\u001b[0m\u001b[0m\n\u001b[1;32m    341\u001b[0m         \u001b[0;32mif\u001b[0m \u001b[0mend\u001b[0m \u001b[0;34m!=\u001b[0m \u001b[0mlen\u001b[0m\u001b[0;34m(\u001b[0m\u001b[0ms\u001b[0m\u001b[0;34m)\u001b[0m\u001b[0;34m:\u001b[0m\u001b[0;34m\u001b[0m\u001b[0m\n",
      "\u001b[0;32m/usr/local/miniconda3/lib/python3.6/json/decoder.py\u001b[0m in \u001b[0;36mraw_decode\u001b[0;34m(self, s, idx)\u001b[0m\n\u001b[1;32m    355\u001b[0m             \u001b[0mobj\u001b[0m\u001b[0;34m,\u001b[0m \u001b[0mend\u001b[0m \u001b[0;34m=\u001b[0m \u001b[0mself\u001b[0m\u001b[0;34m.\u001b[0m\u001b[0mscan_once\u001b[0m\u001b[0;34m(\u001b[0m\u001b[0ms\u001b[0m\u001b[0;34m,\u001b[0m \u001b[0midx\u001b[0m\u001b[0;34m)\u001b[0m\u001b[0;34m\u001b[0m\u001b[0m\n\u001b[1;32m    356\u001b[0m         \u001b[0;32mexcept\u001b[0m \u001b[0mStopIteration\u001b[0m \u001b[0;32mas\u001b[0m \u001b[0merr\u001b[0m\u001b[0;34m:\u001b[0m\u001b[0;34m\u001b[0m\u001b[0m\n\u001b[0;32m--> 357\u001b[0;31m             \u001b[0;32mraise\u001b[0m \u001b[0mJSONDecodeError\u001b[0m\u001b[0;34m(\u001b[0m\u001b[0;34m\"Expecting value\"\u001b[0m\u001b[0;34m,\u001b[0m \u001b[0ms\u001b[0m\u001b[0;34m,\u001b[0m \u001b[0merr\u001b[0m\u001b[0;34m.\u001b[0m\u001b[0mvalue\u001b[0m\u001b[0;34m)\u001b[0m \u001b[0;32mfrom\u001b[0m \u001b[0;32mNone\u001b[0m\u001b[0;34m\u001b[0m\u001b[0m\n\u001b[0m\u001b[1;32m    358\u001b[0m         \u001b[0;32mreturn\u001b[0m \u001b[0mobj\u001b[0m\u001b[0;34m,\u001b[0m \u001b[0mend\u001b[0m\u001b[0;34m\u001b[0m\u001b[0m\n",
      "\u001b[0;31mJSONDecodeError\u001b[0m: Expecting value: line 1 column 1 (char 0)"
     ]
    }
   ],
   "source": [
    "mfile = lay.get(subject='GE120test01', session='pre', task='rest', reconstruction='pu', run=2, type='bold', modality='func')[0].filename\n",
    "lay.get_metadata(mfile)"
   ]
  },
  {
   "cell_type": "code",
   "execution_count": 12,
   "metadata": {},
   "outputs": [
    {
     "name": "stderr",
     "output_type": "stream",
     "text": [
      "/usr/local/miniconda3/lib/python3.6/site-packages/grabbit/core.py:105: UserWarning: Entity names cannot be reserved keywords when representing a File as a namedtuple. Replacing entities ['subject', 'type', 'modality', 'class_'] with safe versions ['class_'].\n",
      "  \"entities %s with safe versions %s.\" % (keys, safe))\n",
      "/usr/local/miniconda3/lib/python3.6/site-packages/grabbit/core.py:105: UserWarning: Entity names cannot be reserved keywords when representing a File as a namedtuple. Replacing entities ['subject', 'type', 'modality', 'space', 'class_'] with safe versions ['class_'].\n",
      "  \"entities %s with safe versions %s.\" % (keys, safe))\n"
     ]
    },
    {
     "data": {
      "text/plain": [
       "[File(filename='/home/james/test/BetterDirectoryStructure/3-Experiment/2-data/bids/derivatives/fmriprep/sub-GE120test01.html', subject='GE120test01', type='GE120test01'),\n",
       " File(filename='/home/james/test/BetterDirectoryStructure/3-Experiment/2-data/bids/derivatives/fmriprep/sub-GE120test01/anat/sub-GE120test01_T1w_brainmask.nii.gz', subject='GE120test01', type='brainmask', modality='anat'),\n",
       " File(filename='/home/james/test/BetterDirectoryStructure/3-Experiment/2-data/bids/derivatives/fmriprep/sub-GE120test01/anat/sub-GE120test01_T1w_class-CSF_probtissue.nii.gz', subject='GE120test01', type='probtissue', modality='anat', class_='CSF'),\n",
       " File(filename='/home/james/test/BetterDirectoryStructure/3-Experiment/2-data/bids/derivatives/fmriprep/sub-GE120test01/anat/sub-GE120test01_T1w_class-GM_probtissue.nii.gz', subject='GE120test01', type='probtissue', modality='anat', class_='GM'),\n",
       " File(filename='/home/james/test/BetterDirectoryStructure/3-Experiment/2-data/bids/derivatives/fmriprep/sub-GE120test01/anat/sub-GE120test01_T1w_class-WM_probtissue.nii.gz', subject='GE120test01', type='probtissue', modality='anat', class_='WM'),\n",
       " File(filename='/home/james/test/BetterDirectoryStructure/3-Experiment/2-data/bids/derivatives/fmriprep/sub-GE120test01/anat/sub-GE120test01_T1w_dtissue.nii.gz', subject='GE120test01', type='dtissue', modality='anat'),\n",
       " File(filename='/home/james/test/BetterDirectoryStructure/3-Experiment/2-data/bids/derivatives/fmriprep/sub-GE120test01/anat/sub-GE120test01_T1w_inflated.L.surf.gii', subject='GE120test01', type='inflated', modality='anat'),\n",
       " File(filename='/home/james/test/BetterDirectoryStructure/3-Experiment/2-data/bids/derivatives/fmriprep/sub-GE120test01/anat/sub-GE120test01_T1w_inflated.R.surf.gii', subject='GE120test01', type='inflated', modality='anat'),\n",
       " File(filename='/home/james/test/BetterDirectoryStructure/3-Experiment/2-data/bids/derivatives/fmriprep/sub-GE120test01/anat/sub-GE120test01_T1w_label-aparcaseg_roi.nii.gz', subject='GE120test01', type='roi', modality='anat', label='aparcaseg'),\n",
       " File(filename='/home/james/test/BetterDirectoryStructure/3-Experiment/2-data/bids/derivatives/fmriprep/sub-GE120test01/anat/sub-GE120test01_T1w_label-aseg_roi.nii.gz', subject='GE120test01', type='roi', modality='anat', label='aseg'),\n",
       " File(filename='/home/james/test/BetterDirectoryStructure/3-Experiment/2-data/bids/derivatives/fmriprep/sub-GE120test01/anat/sub-GE120test01_T1w_midthickness.L.surf.gii', subject='GE120test01', type='midthickness', modality='anat'),\n",
       " File(filename='/home/james/test/BetterDirectoryStructure/3-Experiment/2-data/bids/derivatives/fmriprep/sub-GE120test01/anat/sub-GE120test01_T1w_midthickness.R.surf.gii', subject='GE120test01', type='midthickness', modality='anat'),\n",
       " File(filename='/home/james/test/BetterDirectoryStructure/3-Experiment/2-data/bids/derivatives/fmriprep/sub-GE120test01/anat/sub-GE120test01_T1w_pial.L.surf.gii', subject='GE120test01', type='pial', modality='anat'),\n",
       " File(filename='/home/james/test/BetterDirectoryStructure/3-Experiment/2-data/bids/derivatives/fmriprep/sub-GE120test01/anat/sub-GE120test01_T1w_pial.R.surf.gii', subject='GE120test01', type='pial', modality='anat'),\n",
       " File(filename='/home/james/test/BetterDirectoryStructure/3-Experiment/2-data/bids/derivatives/fmriprep/sub-GE120test01/anat/sub-GE120test01_T1w_preproc.nii.gz', subject='GE120test01', type='preproc', modality='anat'),\n",
       " File(filename='/home/james/test/BetterDirectoryStructure/3-Experiment/2-data/bids/derivatives/fmriprep/sub-GE120test01/anat/sub-GE120test01_T1w_smoothwm.L.surf.gii', subject='GE120test01', type='smoothwm', modality='anat'),\n",
       " File(filename='/home/james/test/BetterDirectoryStructure/3-Experiment/2-data/bids/derivatives/fmriprep/sub-GE120test01/anat/sub-GE120test01_T1w_smoothwm.R.surf.gii', subject='GE120test01', type='smoothwm', modality='anat'),\n",
       " File(filename='/home/james/test/BetterDirectoryStructure/3-Experiment/2-data/bids/derivatives/fmriprep/sub-GE120test01/anat/sub-GE120test01_T1w_space-MNI152NLin2009cAsym_brainmask.nii.gz', subject='GE120test01', type='brainmask', modality='anat', space='MNI152NLin2009cAsym'),\n",
       " File(filename='/home/james/test/BetterDirectoryStructure/3-Experiment/2-data/bids/derivatives/fmriprep/sub-GE120test01/anat/sub-GE120test01_T1w_space-MNI152NLin2009cAsym_class-CSF_probtissue.nii.gz', subject='GE120test01', type='probtissue', modality='anat', space='MNI152NLin2009cAsym', class_='CSF'),\n",
       " File(filename='/home/james/test/BetterDirectoryStructure/3-Experiment/2-data/bids/derivatives/fmriprep/sub-GE120test01/anat/sub-GE120test01_T1w_space-MNI152NLin2009cAsym_class-GM_probtissue.nii.gz', subject='GE120test01', type='probtissue', modality='anat', space='MNI152NLin2009cAsym', class_='GM'),\n",
       " File(filename='/home/james/test/BetterDirectoryStructure/3-Experiment/2-data/bids/derivatives/fmriprep/sub-GE120test01/anat/sub-GE120test01_T1w_space-MNI152NLin2009cAsym_class-WM_probtissue.nii.gz', subject='GE120test01', type='probtissue', modality='anat', space='MNI152NLin2009cAsym', class_='WM'),\n",
       " File(filename='/home/james/test/BetterDirectoryStructure/3-Experiment/2-data/bids/derivatives/fmriprep/sub-GE120test01/anat/sub-GE120test01_T1w_space-MNI152NLin2009cAsym_dtissue.nii.gz', subject='GE120test01', type='dtissue', modality='anat', space='MNI152NLin2009cAsym'),\n",
       " File(filename='/home/james/test/BetterDirectoryStructure/3-Experiment/2-data/bids/derivatives/fmriprep/sub-GE120test01/anat/sub-GE120test01_T1w_space-MNI152NLin2009cAsym_preproc.nii.gz', subject='GE120test01', type='preproc', modality='anat', space='MNI152NLin2009cAsym'),\n",
       " File(filename='/home/james/test/BetterDirectoryStructure/3-Experiment/2-data/bids/derivatives/fmriprep/sub-GE120test01/anat/sub-GE120test01_T1w_space-MNI152NLin2009cAsym_target-T1w_warp.h5', subject='GE120test01', type='warp', modality='anat', target='T1w', space='MNI152NLin2009cAsym'),\n",
       " File(filename='/home/james/test/BetterDirectoryStructure/3-Experiment/2-data/bids/derivatives/fmriprep/sub-GE120test01/anat/sub-GE120test01_T1w_target-fsnative_affine.txt', subject='GE120test01', type='affine', modality='anat', target='fsnative'),\n",
       " File(filename='/home/james/test/BetterDirectoryStructure/3-Experiment/2-data/bids/derivatives/fmriprep/sub-GE120test01/anat/sub-GE120test01_T1w_target-MNI152NLin2009cAsym_warp.h5', subject='GE120test01', type='warp', modality='anat', target='MNI152NLin2009cAsym'),\n",
       " File(filename='/home/james/test/BetterDirectoryStructure/3-Experiment/2-data/bids/derivatives/fmriprep/sub-GE120test01/figures/sub-GE120test01_ses-pre_task-TaskSwitch_rec-pu_bold_bbr.svg', subject='GE120test01', session='pre', task='TaskSwitch', reconstruction='pu', type='bbr'),\n",
       " File(filename='/home/james/test/BetterDirectoryStructure/3-Experiment/2-data/bids/derivatives/fmriprep/sub-GE120test01/figures/sub-GE120test01_ses-pre_task-TaskSwitch_rec-pu_bold_carpetplot.svg', subject='GE120test01', session='pre', task='TaskSwitch', reconstruction='pu', type='carpetplot'),\n",
       " File(filename='/home/james/test/BetterDirectoryStructure/3-Experiment/2-data/bids/derivatives/fmriprep/sub-GE120test01/figures/sub-GE120test01_ses-pre_task-TaskSwitch_rec-pu_bold_ica_aroma.svg', subject='GE120test01', session='pre', task='TaskSwitch', reconstruction='pu', type='aroma'),\n",
       " File(filename='/home/james/test/BetterDirectoryStructure/3-Experiment/2-data/bids/derivatives/fmriprep/sub-GE120test01/figures/sub-GE120test01_ses-pre_task-TaskSwitch_rec-pu_bold_rois.svg', subject='GE120test01', session='pre', task='TaskSwitch', reconstruction='pu', type='rois'),\n",
       " File(filename='/home/james/test/BetterDirectoryStructure/3-Experiment/2-data/bids/derivatives/fmriprep/sub-GE120test01/figures/sub-GE120test01_T1w_reconall.svg', subject='GE120test01', type='reconall'),\n",
       " File(filename='/home/james/test/BetterDirectoryStructure/3-Experiment/2-data/bids/derivatives/fmriprep/sub-GE120test01/figures/sub-GE120test01_T1w_seg_brainmask.svg', subject='GE120test01', type='brainmask'),\n",
       " File(filename='/home/james/test/BetterDirectoryStructure/3-Experiment/2-data/bids/derivatives/fmriprep/sub-GE120test01/figures/sub-GE120test01_T1w_t1_2_mni.svg', subject='GE120test01', type='mni'),\n",
       " File(filename='/home/james/test/BetterDirectoryStructure/3-Experiment/2-data/bids/derivatives/fmriprep/sub-GE120test01/ses-pre/func/sub-GE120test01_ses-pre_task-TaskSwitch_rec-pu_bold_AROMAnoiseICs.csv', subject='GE120test01', session='pre', task='TaskSwitch', reconstruction='pu', type='AROMAnoiseICs', modality='func'),\n",
       " File(filename='/home/james/test/BetterDirectoryStructure/3-Experiment/2-data/bids/derivatives/fmriprep/sub-GE120test01/ses-pre/func/sub-GE120test01_ses-pre_task-TaskSwitch_rec-pu_bold_confounds.tsv', subject='GE120test01', session='pre', task='TaskSwitch', reconstruction='pu', type='confounds', modality='func'),\n",
       " File(filename='/home/james/test/BetterDirectoryStructure/3-Experiment/2-data/bids/derivatives/fmriprep/sub-GE120test01/ses-pre/func/sub-GE120test01_ses-pre_task-TaskSwitch_rec-pu_bold_MELODICmix.tsv', subject='GE120test01', session='pre', task='TaskSwitch', reconstruction='pu', type='MELODICmix', modality='func'),\n",
       " File(filename='/home/james/test/BetterDirectoryStructure/3-Experiment/2-data/bids/derivatives/fmriprep/sub-GE120test01/ses-pre/func/sub-GE120test01_ses-pre_task-TaskSwitch_rec-pu_bold_space-MNI152NLin2009cAsym_brainmask.nii.gz', subject='GE120test01', session='pre', task='TaskSwitch', reconstruction='pu', type='brainmask', modality='func', space='MNI152NLin2009cAsym'),\n",
       " File(filename='/home/james/test/BetterDirectoryStructure/3-Experiment/2-data/bids/derivatives/fmriprep/sub-GE120test01/ses-pre/func/sub-GE120test01_ses-pre_task-TaskSwitch_rec-pu_bold_space-MNI152NLin2009cAsym_preproc.nii.gz', subject='GE120test01', session='pre', task='TaskSwitch', reconstruction='pu', type='preproc', modality='func', space='MNI152NLin2009cAsym'),\n",
       " File(filename='/home/james/test/BetterDirectoryStructure/3-Experiment/2-data/bids/derivatives/fmriprep/sub-GE120test01/ses-pre/func/sub-GE120test01_ses-pre_task-TaskSwitch_rec-pu_bold_space-MNI152NLin2009cAsym_variant-smoothAROMAnonaggr_preproc.nii.gz', subject='GE120test01', session='pre', task='TaskSwitch', reconstruction='pu', type='preproc', modality='func', space='MNI152NLin2009cAsym', variant='smoothAROMAnonaggr'),\n",
       " File(filename='/home/james/test/BetterDirectoryStructure/3-Experiment/2-data/bids/derivatives/fmriprep/sub-GE120test01/ses-pre/func/sub-GE120test01_ses-pre_task-TaskSwitch_rec-pu_bold_space-T1w_label-aparcaseg_roi.nii.gz', subject='GE120test01', session='pre', task='TaskSwitch', reconstruction='pu', type='roi', modality='func', space='T1w', label='aparcaseg'),\n",
       " File(filename='/home/james/test/BetterDirectoryStructure/3-Experiment/2-data/bids/derivatives/fmriprep/sub-GE120test01/ses-pre/func/sub-GE120test01_ses-pre_task-TaskSwitch_rec-pu_bold_space-T1w_label-aseg_roi.nii.gz', subject='GE120test01', session='pre', task='TaskSwitch', reconstruction='pu', type='roi', modality='func', space='T1w', label='aseg'),\n",
       " File(filename='/home/james/test/BetterDirectoryStructure/3-Experiment/2-data/bids/derivatives/fmriprep/sub-GE120test01/ses-preex/anat/sub-GE120test01_ses-preex_T1w_space-orig_target-T1w_affine.txt', subject='GE120test01', session='preex', type='affine', modality='anat', target='T1w', space='orig'),\n",
       " File(filename='/home/james/test/BetterDirectoryStructure/3-Experiment/2-data/bids/sub-GE120test01/ses-pre/dwi/sub-GE120test01_ses-pre_dwi.bval', subject='GE120test01', session='pre', type='dwi', bval='/home/james/test/BetterDirectoryStructure/3-Experiment/2-data/bids/sub-GE120test01/ses-pre/dwi/sub-GE120test01_ses-pre_dwi.bval', modality='dwi'),\n",
       " File(filename='/home/james/test/BetterDirectoryStructure/3-Experiment/2-data/bids/sub-GE120test01/ses-pre/dwi/sub-GE120test01_ses-pre_dwi.bvec', subject='GE120test01', session='pre', type='dwi', bvec='/home/james/test/BetterDirectoryStructure/3-Experiment/2-data/bids/sub-GE120test01/ses-pre/dwi/sub-GE120test01_ses-pre_dwi.bvec', modality='dwi'),\n",
       " File(filename='/home/james/test/BetterDirectoryStructure/3-Experiment/2-data/bids/sub-GE120test01/ses-pre/dwi/sub-GE120test01_ses-pre_dwi.json', subject='GE120test01', session='pre', type='dwi', modality='dwi'),\n",
       " File(filename='/home/james/test/BetterDirectoryStructure/3-Experiment/2-data/bids/sub-GE120test01/ses-pre/dwi/sub-GE120test01_ses-pre_dwi.nii.gz', subject='GE120test01', session='pre', type='dwi', modality='dwi'),\n",
       " File(filename='/home/james/test/BetterDirectoryStructure/3-Experiment/2-data/bids/sub-GE120test01/ses-pre/fmap/sub-GE120test01_ses-pre_dir-AP_fmap.json', subject='GE120test01', session='pre', dir='AP', type='fmap', modality='fmap'),\n",
       " File(filename='/home/james/test/BetterDirectoryStructure/3-Experiment/2-data/bids/sub-GE120test01/ses-pre/fmap/sub-GE120test01_ses-pre_dir-AP_fmap.nii.gz', subject='GE120test01', session='pre', dir='AP', type='fmap', modality='fmap'),\n",
       " File(filename='/home/james/test/BetterDirectoryStructure/3-Experiment/2-data/bids/sub-GE120test01/ses-pre/func/sub-GE120test01_ses-pre_task-TaskSwitch_rec-pu_bold.json', subject='GE120test01', session='pre', task='TaskSwitch', reconstruction='pu', type='bold', modality='func'),\n",
       " File(filename='/home/james/test/BetterDirectoryStructure/3-Experiment/2-data/bids/sub-GE120test01/ses-pre/func/sub-GE120test01_ses-pre_task-TaskSwitch_rec-pu_bold.nii.gz', subject='GE120test01', session='pre', task='TaskSwitch', reconstruction='pu', type='bold', modality='func'),\n",
       " File(filename='/home/james/test/BetterDirectoryStructure/3-Experiment/2-data/bids/sub-GE120test01/ses-preex/anat/sub-GE120test01_ses-preex_T1w.json', subject='GE120test01', session='preex', type='T1w', modality='anat'),\n",
       " File(filename='/home/james/test/BetterDirectoryStructure/3-Experiment/2-data/bids/sub-GE120test01/ses-preex/anat/sub-GE120test01_ses-preex_T1w.nii.gz', subject='GE120test01', session='preex', type='T1w', modality='anat')]"
      ]
     },
     "execution_count": 12,
     "metadata": {},
     "output_type": "execute_result"
    }
   ],
   "source": [
    "lay.get(subject='GE120test01', asdf=None, run=None)"
   ]
  },
  {
   "cell_type": "code",
   "execution_count": 3,
   "metadata": {},
   "outputs": [
    {
     "ename": "JSONDecodeError",
     "evalue": "Expecting value: line 1 column 1 (char 0)",
     "output_type": "error",
     "traceback": [
      "\u001b[0;31m---------------------------------------------------------------------------\u001b[0m",
      "\u001b[0;31mJSONDecodeError\u001b[0m                           Traceback (most recent call last)",
      "\u001b[0;32m<ipython-input-3-ea4aa1e8ea1b>\u001b[0m in \u001b[0;36m<module>\u001b[0;34m()\u001b[0m\n\u001b[0;32m----> 1\u001b[0;31m \u001b[0mlay\u001b[0m\u001b[0;34m.\u001b[0m\u001b[0mget_metadata\u001b[0m\u001b[0;34m(\u001b[0m\u001b[0;34m'/home/james/test/BetterDirectoryStructure/3-Experiment/2-data/bids/sub-GE120test01/ses-pre/func/sub-GE120test01_ses-pre_task-TaskSwitch_rec-pu_bold.nii.gz'\u001b[0m\u001b[0;34m)\u001b[0m\u001b[0;34m\u001b[0m\u001b[0m\n\u001b[0m",
      "\u001b[0;32m/usr/local/miniconda3/lib/python3.6/site-packages/bids/layout/bids_layout.py\u001b[0m in \u001b[0;36mget_metadata\u001b[0;34m(self, path, include_entities, **kwargs)\u001b[0m\n\u001b[1;32m    206\u001b[0m             \u001b[0;32mif\u001b[0m \u001b[0mos\u001b[0m\u001b[0;34m.\u001b[0m\u001b[0mpath\u001b[0m\u001b[0;34m.\u001b[0m\u001b[0mexists\u001b[0m\u001b[0;34m(\u001b[0m\u001b[0mjson_file_path\u001b[0m\u001b[0;34m)\u001b[0m\u001b[0;34m:\u001b[0m\u001b[0;34m\u001b[0m\u001b[0m\n\u001b[1;32m    207\u001b[0m                 param_dict = json.load(open(json_file_path, \"r\",\n\u001b[0;32m--> 208\u001b[0;31m                                             encoding='utf-8'))\n\u001b[0m\u001b[1;32m    209\u001b[0m                 \u001b[0mmerged_param_dict\u001b[0m\u001b[0;34m.\u001b[0m\u001b[0mupdate\u001b[0m\u001b[0;34m(\u001b[0m\u001b[0mparam_dict\u001b[0m\u001b[0;34m)\u001b[0m\u001b[0;34m\u001b[0m\u001b[0m\n\u001b[1;32m    210\u001b[0m \u001b[0;34m\u001b[0m\u001b[0m\n",
      "\u001b[0;32m/usr/local/miniconda3/lib/python3.6/json/__init__.py\u001b[0m in \u001b[0;36mload\u001b[0;34m(fp, cls, object_hook, parse_float, parse_int, parse_constant, object_pairs_hook, **kw)\u001b[0m\n\u001b[1;32m    297\u001b[0m         \u001b[0mcls\u001b[0m\u001b[0;34m=\u001b[0m\u001b[0mcls\u001b[0m\u001b[0;34m,\u001b[0m \u001b[0mobject_hook\u001b[0m\u001b[0;34m=\u001b[0m\u001b[0mobject_hook\u001b[0m\u001b[0;34m,\u001b[0m\u001b[0;34m\u001b[0m\u001b[0m\n\u001b[1;32m    298\u001b[0m         \u001b[0mparse_float\u001b[0m\u001b[0;34m=\u001b[0m\u001b[0mparse_float\u001b[0m\u001b[0;34m,\u001b[0m \u001b[0mparse_int\u001b[0m\u001b[0;34m=\u001b[0m\u001b[0mparse_int\u001b[0m\u001b[0;34m,\u001b[0m\u001b[0;34m\u001b[0m\u001b[0m\n\u001b[0;32m--> 299\u001b[0;31m         parse_constant=parse_constant, object_pairs_hook=object_pairs_hook, **kw)\n\u001b[0m\u001b[1;32m    300\u001b[0m \u001b[0;34m\u001b[0m\u001b[0m\n\u001b[1;32m    301\u001b[0m \u001b[0;34m\u001b[0m\u001b[0m\n",
      "\u001b[0;32m/usr/local/miniconda3/lib/python3.6/json/__init__.py\u001b[0m in \u001b[0;36mloads\u001b[0;34m(s, encoding, cls, object_hook, parse_float, parse_int, parse_constant, object_pairs_hook, **kw)\u001b[0m\n\u001b[1;32m    352\u001b[0m             \u001b[0mparse_int\u001b[0m \u001b[0;32mis\u001b[0m \u001b[0;32mNone\u001b[0m \u001b[0;32mand\u001b[0m \u001b[0mparse_float\u001b[0m \u001b[0;32mis\u001b[0m \u001b[0;32mNone\u001b[0m \u001b[0;32mand\u001b[0m\u001b[0;34m\u001b[0m\u001b[0m\n\u001b[1;32m    353\u001b[0m             parse_constant is None and object_pairs_hook is None and not kw):\n\u001b[0;32m--> 354\u001b[0;31m         \u001b[0;32mreturn\u001b[0m \u001b[0m_default_decoder\u001b[0m\u001b[0;34m.\u001b[0m\u001b[0mdecode\u001b[0m\u001b[0;34m(\u001b[0m\u001b[0ms\u001b[0m\u001b[0;34m)\u001b[0m\u001b[0;34m\u001b[0m\u001b[0m\n\u001b[0m\u001b[1;32m    355\u001b[0m     \u001b[0;32mif\u001b[0m \u001b[0mcls\u001b[0m \u001b[0;32mis\u001b[0m \u001b[0;32mNone\u001b[0m\u001b[0;34m:\u001b[0m\u001b[0;34m\u001b[0m\u001b[0m\n\u001b[1;32m    356\u001b[0m         \u001b[0mcls\u001b[0m \u001b[0;34m=\u001b[0m \u001b[0mJSONDecoder\u001b[0m\u001b[0;34m\u001b[0m\u001b[0m\n",
      "\u001b[0;32m/usr/local/miniconda3/lib/python3.6/json/decoder.py\u001b[0m in \u001b[0;36mdecode\u001b[0;34m(self, s, _w)\u001b[0m\n\u001b[1;32m    337\u001b[0m \u001b[0;34m\u001b[0m\u001b[0m\n\u001b[1;32m    338\u001b[0m         \"\"\"\n\u001b[0;32m--> 339\u001b[0;31m         \u001b[0mobj\u001b[0m\u001b[0;34m,\u001b[0m \u001b[0mend\u001b[0m \u001b[0;34m=\u001b[0m \u001b[0mself\u001b[0m\u001b[0;34m.\u001b[0m\u001b[0mraw_decode\u001b[0m\u001b[0;34m(\u001b[0m\u001b[0ms\u001b[0m\u001b[0;34m,\u001b[0m \u001b[0midx\u001b[0m\u001b[0;34m=\u001b[0m\u001b[0m_w\u001b[0m\u001b[0;34m(\u001b[0m\u001b[0ms\u001b[0m\u001b[0;34m,\u001b[0m \u001b[0;36m0\u001b[0m\u001b[0;34m)\u001b[0m\u001b[0;34m.\u001b[0m\u001b[0mend\u001b[0m\u001b[0;34m(\u001b[0m\u001b[0;34m)\u001b[0m\u001b[0;34m)\u001b[0m\u001b[0;34m\u001b[0m\u001b[0m\n\u001b[0m\u001b[1;32m    340\u001b[0m         \u001b[0mend\u001b[0m \u001b[0;34m=\u001b[0m \u001b[0m_w\u001b[0m\u001b[0;34m(\u001b[0m\u001b[0ms\u001b[0m\u001b[0;34m,\u001b[0m \u001b[0mend\u001b[0m\u001b[0;34m)\u001b[0m\u001b[0;34m.\u001b[0m\u001b[0mend\u001b[0m\u001b[0;34m(\u001b[0m\u001b[0;34m)\u001b[0m\u001b[0;34m\u001b[0m\u001b[0m\n\u001b[1;32m    341\u001b[0m         \u001b[0;32mif\u001b[0m \u001b[0mend\u001b[0m \u001b[0;34m!=\u001b[0m \u001b[0mlen\u001b[0m\u001b[0;34m(\u001b[0m\u001b[0ms\u001b[0m\u001b[0;34m)\u001b[0m\u001b[0;34m:\u001b[0m\u001b[0;34m\u001b[0m\u001b[0m\n",
      "\u001b[0;32m/usr/local/miniconda3/lib/python3.6/json/decoder.py\u001b[0m in \u001b[0;36mraw_decode\u001b[0;34m(self, s, idx)\u001b[0m\n\u001b[1;32m    355\u001b[0m             \u001b[0mobj\u001b[0m\u001b[0;34m,\u001b[0m \u001b[0mend\u001b[0m \u001b[0;34m=\u001b[0m \u001b[0mself\u001b[0m\u001b[0;34m.\u001b[0m\u001b[0mscan_once\u001b[0m\u001b[0;34m(\u001b[0m\u001b[0ms\u001b[0m\u001b[0;34m,\u001b[0m \u001b[0midx\u001b[0m\u001b[0;34m)\u001b[0m\u001b[0;34m\u001b[0m\u001b[0m\n\u001b[1;32m    356\u001b[0m         \u001b[0;32mexcept\u001b[0m \u001b[0mStopIteration\u001b[0m \u001b[0;32mas\u001b[0m \u001b[0merr\u001b[0m\u001b[0;34m:\u001b[0m\u001b[0;34m\u001b[0m\u001b[0m\n\u001b[0;32m--> 357\u001b[0;31m             \u001b[0;32mraise\u001b[0m \u001b[0mJSONDecodeError\u001b[0m\u001b[0;34m(\u001b[0m\u001b[0;34m\"Expecting value\"\u001b[0m\u001b[0;34m,\u001b[0m \u001b[0ms\u001b[0m\u001b[0;34m,\u001b[0m \u001b[0merr\u001b[0m\u001b[0;34m.\u001b[0m\u001b[0mvalue\u001b[0m\u001b[0;34m)\u001b[0m \u001b[0;32mfrom\u001b[0m \u001b[0;32mNone\u001b[0m\u001b[0;34m\u001b[0m\u001b[0m\n\u001b[0m\u001b[1;32m    358\u001b[0m         \u001b[0;32mreturn\u001b[0m \u001b[0mobj\u001b[0m\u001b[0;34m,\u001b[0m \u001b[0mend\u001b[0m\u001b[0;34m\u001b[0m\u001b[0m\n",
      "\u001b[0;31mJSONDecodeError\u001b[0m: Expecting value: line 1 column 1 (char 0)"
     ]
    }
   ],
   "source": [
    "lay.get_metadata('/home/james/test/BetterDirectoryStructure/3-Experiment/2-data/bids/sub-GE120test01/ses-pre/func/sub-GE120test01_ses-pre_task-TaskSwitch_rec-pu_bold.nii.gz')"
   ]
  },
  {
   "cell_type": "code",
   "execution_count": null,
   "metadata": {},
   "outputs": [],
   "source": []
  }
 ],
 "metadata": {
  "kernelspec": {
   "display_name": "Python [default]",
   "language": "python",
   "name": "python3"
  },
  "language_info": {
   "codemirror_mode": {
    "name": "ipython",
    "version": 3
   },
   "file_extension": ".py",
   "mimetype": "text/x-python",
   "name": "python",
   "nbconvert_exporter": "python",
   "pygments_lexer": "ipython3",
   "version": "3.6.4"
  }
 },
 "nbformat": 4,
 "nbformat_minor": 2
}
